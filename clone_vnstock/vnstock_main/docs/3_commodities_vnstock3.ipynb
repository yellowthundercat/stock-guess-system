{
 "cells": [
  {
   "cell_type": "markdown",
   "metadata": {},
   "source": [
    "<a target=\"_blank\" href=\"https://colab.research.google.com/github/thinh-vu/vnstock/blob/main/docs/3_commodities_vnstock3.ipynb\">\n",
    "  <img src=\"https://colab.research.google.com/assets/colab-badge.svg\" alt=\"Open In Colab\"/>\n",
    "</a>"
   ]
  },
  {
   "cell_type": "markdown",
   "metadata": {},
   "source": [
    "# Mục lục"
   ]
  },
  {
   "cell_type": "markdown",
   "metadata": {},
   "source": [
    "1. Chứng khoán Việt Nam [tại đây](https://colab.research.google.com/github/thinh-vu/vnstock/blob/main/docs/1_vietnam_stock_vnstock3.ipynb)\n",
    "2. Chứng khoán quốc tế: Forex, Crypto, Chỉ số [tại đây](https://colab.research.google.com/github/thinh-vu/vnstock/blob/main/docs/2_international_market.ipynb)\n",
    "3. Dữ liệu Thị trường, hàng hoá [tại đây](https://colab.research.google.com/github/thinh-vu/vnstock/blob/main/docs/3_commodities_vnstock3.ipynb)\n",
    "4. Biểu diễn dữ liệu trực quan từ Vnstock3 [tại đây](https://colab.research.google.com/github/thinh-vu/vnstock/blob/main/docs/5_visualization_data_exploration_vnstock3.ipynb)"
   ]
  },
  {
   "cell_type": "markdown",
   "metadata": {},
   "source": [
    "# I. Cài đặt"
   ]
  },
  {
   "cell_type": "markdown",
   "metadata": {},
   "source": [
    "## Cài đặt thư viện"
   ]
  },
  {
   "cell_type": "code",
   "execution_count": null,
   "metadata": {},
   "outputs": [],
   "source": [
    "!pip install -U vnstock"
   ]
  },
  {
   "cell_type": "markdown",
   "metadata": {},
   "source": [
    "## Nạp thư viện lần đầu"
   ]
  },
  {
   "cell_type": "markdown",
   "metadata": {},
   "source": [
    "> Bạn có thể nạp toàn bộ các module của thư viện vào môi trường làm việc nếu chưa biết rõ mình cần gì hoặc chọn từng module riêng biệt để nạp vào khi đã quen thuộc."
   ]
  },
  {
   "cell_type": "markdown",
   "metadata": {},
   "source": [
    "# II. Dữ liệu thị trường, hàng hoá"
   ]
  },
  {
   "cell_type": "markdown",
   "metadata": {},
   "source": [
    "## Tỉ giá ngoại tệ - VCB"
   ]
  },
  {
   "cell_type": "code",
   "execution_count": 2,
   "metadata": {},
   "outputs": [
    {
     "data": {
      "application/vnd.microsoft.datawrangler.viewer.v0+json": {
       "columns": [
        {
         "name": "index",
         "rawType": "int64",
         "type": "integer"
        },
        {
         "name": "currency_code",
         "rawType": "object",
         "type": "string"
        },
        {
         "name": "currency_name",
         "rawType": "object",
         "type": "string"
        },
        {
         "name": "buy _cash",
         "rawType": "object",
         "type": "string"
        },
        {
         "name": "buy _transfer",
         "rawType": "object",
         "type": "string"
        },
        {
         "name": "sell",
         "rawType": "object",
         "type": "string"
        },
        {
         "name": "date",
         "rawType": "object",
         "type": "string"
        }
       ],
       "conversionMethod": "pd.DataFrame",
       "ref": "208db677-3dc5-46b7-9118-00276baa8a98",
       "rows": [
        [
         "2",
         "AUD",
         "AUSTRALIAN DOLLAR",
         "16,368.75",
         "16,534.09",
         "17,064.46",
         "2024-05-25"
        ],
        [
         "3",
         "CAD",
         "CANADIAN DOLLAR",
         "18,066.32",
         "18,248.80",
         "18,834.18",
         "2024-05-25"
        ],
        [
         "4",
         "CHF",
         "SWISS FRANC",
         "27,124.16",
         "27,398.15",
         "28,277.00",
         "2024-05-25"
        ],
        [
         "5",
         "CNY",
         "CHINESE YUAN",
         "3,443.11",
         "3,477.89",
         "3,589.99",
         "2024-05-25"
        ],
        [
         "6",
         "DKK",
         "DANISH KRONE",
         "-",
         "3,620.50",
         "3,759.13",
         "2024-05-25"
        ],
        [
         "7",
         "EUR",
         "EURO",
         "26,809.13",
         "27,079.92",
         "28,279.00",
         "2024-05-25"
        ],
        [
         "8",
         "GBP",
         "UK POUND STERLING",
         "31,474.93",
         "31,792.85",
         "32,812.68",
         "2024-05-25"
        ],
        [
         "9",
         "HKD",
         "HONG KONG DOLLAR",
         "3,177.08",
         "3,209.17",
         "3,312.12",
         "2024-05-25"
        ],
        [
         "10",
         "INR",
         "INDIAN RUPEE",
         "-",
         "304.81",
         "317.00",
         "2024-05-25"
        ],
        [
         "11",
         "JPY",
         "JAPANESE YEN",
         "157.13",
         "158.72",
         "166.31",
         "2024-05-25"
        ],
        [
         "12",
         "KRW",
         "KOREAN WON",
         "16.06",
         "17.84",
         "19.46",
         "2024-05-25"
        ],
        [
         "13",
         "KWD",
         "KUWAITI DINAR",
         "-",
         "82,772.18",
         "86,080.98",
         "2024-05-25"
        ],
        [
         "14",
         "MYR",
         "MALAYSIAN RINGGIT",
         "-",
         "5,341.49",
         "5,457.97",
         "2024-05-25"
        ],
        [
         "15",
         "NOK",
         "NORWEGIAN KRONE",
         "-",
         "2,336.27",
         "2,435.45",
         "2024-05-25"
        ],
        [
         "16",
         "RUB",
         "RUSSIAN RUBLE",
         "-",
         "264.41",
         "292.71",
         "2024-05-25"
        ],
        [
         "17",
         "SAR",
         "SAUDI ARABIAN RIYAL",
         "-",
         "6,768.94",
         "7,039.53",
         "2024-05-25"
        ],
        [
         "18",
         "SEK",
         "SWEDISH KRONA",
         "-",
         "2,322.28",
         "2,420.86",
         "2024-05-25"
        ],
        [
         "19",
         "SGD",
         "SINGAPORE DOLLAR",
         "18,350.94",
         "18,536.30",
         "19,130.90",
         "2024-05-25"
        ],
        [
         "20",
         "THB",
         "THAI BAHT",
         "613.77",
         "681.97",
         "708.08",
         "2024-05-25"
        ],
        [
         "21",
         "USD",
         "US DOLLAR",
         "25,247.00",
         "25,277.00",
         "25,477.00",
         "2024-05-25"
        ]
       ],
       "shape": {
        "columns": 6,
        "rows": 20
       }
      },
      "text/html": [
       "<div>\n",
       "<style scoped>\n",
       "    .dataframe tbody tr th:only-of-type {\n",
       "        vertical-align: middle;\n",
       "    }\n",
       "\n",
       "    .dataframe tbody tr th {\n",
       "        vertical-align: top;\n",
       "    }\n",
       "\n",
       "    .dataframe thead th {\n",
       "        text-align: right;\n",
       "    }\n",
       "</style>\n",
       "<table border=\"1\" class=\"dataframe\">\n",
       "  <thead>\n",
       "    <tr style=\"text-align: right;\">\n",
       "      <th></th>\n",
       "      <th>currency_code</th>\n",
       "      <th>currency_name</th>\n",
       "      <th>buy _cash</th>\n",
       "      <th>buy _transfer</th>\n",
       "      <th>sell</th>\n",
       "      <th>date</th>\n",
       "    </tr>\n",
       "  </thead>\n",
       "  <tbody>\n",
       "    <tr>\n",
       "      <th>2</th>\n",
       "      <td>AUD</td>\n",
       "      <td>AUSTRALIAN DOLLAR</td>\n",
       "      <td>16,368.75</td>\n",
       "      <td>16,534.09</td>\n",
       "      <td>17,064.46</td>\n",
       "      <td>2024-05-25</td>\n",
       "    </tr>\n",
       "    <tr>\n",
       "      <th>3</th>\n",
       "      <td>CAD</td>\n",
       "      <td>CANADIAN DOLLAR</td>\n",
       "      <td>18,066.32</td>\n",
       "      <td>18,248.80</td>\n",
       "      <td>18,834.18</td>\n",
       "      <td>2024-05-25</td>\n",
       "    </tr>\n",
       "    <tr>\n",
       "      <th>4</th>\n",
       "      <td>CHF</td>\n",
       "      <td>SWISS FRANC</td>\n",
       "      <td>27,124.16</td>\n",
       "      <td>27,398.15</td>\n",
       "      <td>28,277.00</td>\n",
       "      <td>2024-05-25</td>\n",
       "    </tr>\n",
       "    <tr>\n",
       "      <th>5</th>\n",
       "      <td>CNY</td>\n",
       "      <td>CHINESE YUAN</td>\n",
       "      <td>3,443.11</td>\n",
       "      <td>3,477.89</td>\n",
       "      <td>3,589.99</td>\n",
       "      <td>2024-05-25</td>\n",
       "    </tr>\n",
       "    <tr>\n",
       "      <th>6</th>\n",
       "      <td>DKK</td>\n",
       "      <td>DANISH KRONE</td>\n",
       "      <td>-</td>\n",
       "      <td>3,620.50</td>\n",
       "      <td>3,759.13</td>\n",
       "      <td>2024-05-25</td>\n",
       "    </tr>\n",
       "    <tr>\n",
       "      <th>7</th>\n",
       "      <td>EUR</td>\n",
       "      <td>EURO</td>\n",
       "      <td>26,809.13</td>\n",
       "      <td>27,079.92</td>\n",
       "      <td>28,279.00</td>\n",
       "      <td>2024-05-25</td>\n",
       "    </tr>\n",
       "    <tr>\n",
       "      <th>8</th>\n",
       "      <td>GBP</td>\n",
       "      <td>UK POUND STERLING</td>\n",
       "      <td>31,474.93</td>\n",
       "      <td>31,792.85</td>\n",
       "      <td>32,812.68</td>\n",
       "      <td>2024-05-25</td>\n",
       "    </tr>\n",
       "    <tr>\n",
       "      <th>9</th>\n",
       "      <td>HKD</td>\n",
       "      <td>HONG KONG DOLLAR</td>\n",
       "      <td>3,177.08</td>\n",
       "      <td>3,209.17</td>\n",
       "      <td>3,312.12</td>\n",
       "      <td>2024-05-25</td>\n",
       "    </tr>\n",
       "    <tr>\n",
       "      <th>10</th>\n",
       "      <td>INR</td>\n",
       "      <td>INDIAN RUPEE</td>\n",
       "      <td>-</td>\n",
       "      <td>304.81</td>\n",
       "      <td>317.00</td>\n",
       "      <td>2024-05-25</td>\n",
       "    </tr>\n",
       "    <tr>\n",
       "      <th>11</th>\n",
       "      <td>JPY</td>\n",
       "      <td>JAPANESE YEN</td>\n",
       "      <td>157.13</td>\n",
       "      <td>158.72</td>\n",
       "      <td>166.31</td>\n",
       "      <td>2024-05-25</td>\n",
       "    </tr>\n",
       "    <tr>\n",
       "      <th>12</th>\n",
       "      <td>KRW</td>\n",
       "      <td>KOREAN WON</td>\n",
       "      <td>16.06</td>\n",
       "      <td>17.84</td>\n",
       "      <td>19.46</td>\n",
       "      <td>2024-05-25</td>\n",
       "    </tr>\n",
       "    <tr>\n",
       "      <th>13</th>\n",
       "      <td>KWD</td>\n",
       "      <td>KUWAITI DINAR</td>\n",
       "      <td>-</td>\n",
       "      <td>82,772.18</td>\n",
       "      <td>86,080.98</td>\n",
       "      <td>2024-05-25</td>\n",
       "    </tr>\n",
       "    <tr>\n",
       "      <th>14</th>\n",
       "      <td>MYR</td>\n",
       "      <td>MALAYSIAN RINGGIT</td>\n",
       "      <td>-</td>\n",
       "      <td>5,341.49</td>\n",
       "      <td>5,457.97</td>\n",
       "      <td>2024-05-25</td>\n",
       "    </tr>\n",
       "    <tr>\n",
       "      <th>15</th>\n",
       "      <td>NOK</td>\n",
       "      <td>NORWEGIAN KRONE</td>\n",
       "      <td>-</td>\n",
       "      <td>2,336.27</td>\n",
       "      <td>2,435.45</td>\n",
       "      <td>2024-05-25</td>\n",
       "    </tr>\n",
       "    <tr>\n",
       "      <th>16</th>\n",
       "      <td>RUB</td>\n",
       "      <td>RUSSIAN RUBLE</td>\n",
       "      <td>-</td>\n",
       "      <td>264.41</td>\n",
       "      <td>292.71</td>\n",
       "      <td>2024-05-25</td>\n",
       "    </tr>\n",
       "    <tr>\n",
       "      <th>17</th>\n",
       "      <td>SAR</td>\n",
       "      <td>SAUDI ARABIAN RIYAL</td>\n",
       "      <td>-</td>\n",
       "      <td>6,768.94</td>\n",
       "      <td>7,039.53</td>\n",
       "      <td>2024-05-25</td>\n",
       "    </tr>\n",
       "    <tr>\n",
       "      <th>18</th>\n",
       "      <td>SEK</td>\n",
       "      <td>SWEDISH KRONA</td>\n",
       "      <td>-</td>\n",
       "      <td>2,322.28</td>\n",
       "      <td>2,420.86</td>\n",
       "      <td>2024-05-25</td>\n",
       "    </tr>\n",
       "    <tr>\n",
       "      <th>19</th>\n",
       "      <td>SGD</td>\n",
       "      <td>SINGAPORE DOLLAR</td>\n",
       "      <td>18,350.94</td>\n",
       "      <td>18,536.30</td>\n",
       "      <td>19,130.90</td>\n",
       "      <td>2024-05-25</td>\n",
       "    </tr>\n",
       "    <tr>\n",
       "      <th>20</th>\n",
       "      <td>THB</td>\n",
       "      <td>THAI BAHT</td>\n",
       "      <td>613.77</td>\n",
       "      <td>681.97</td>\n",
       "      <td>708.08</td>\n",
       "      <td>2024-05-25</td>\n",
       "    </tr>\n",
       "    <tr>\n",
       "      <th>21</th>\n",
       "      <td>USD</td>\n",
       "      <td>US DOLLAR</td>\n",
       "      <td>25,247.00</td>\n",
       "      <td>25,277.00</td>\n",
       "      <td>25,477.00</td>\n",
       "      <td>2024-05-25</td>\n",
       "    </tr>\n",
       "  </tbody>\n",
       "</table>\n",
       "</div>"
      ],
      "text/plain": [
       "   currency_code        currency_name  buy _cash buy _transfer       sell  \\\n",
       "2            AUD    AUSTRALIAN DOLLAR  16,368.75     16,534.09  17,064.46   \n",
       "3            CAD      CANADIAN DOLLAR  18,066.32     18,248.80  18,834.18   \n",
       "4            CHF          SWISS FRANC  27,124.16     27,398.15  28,277.00   \n",
       "5            CNY         CHINESE YUAN   3,443.11      3,477.89   3,589.99   \n",
       "6            DKK         DANISH KRONE          -      3,620.50   3,759.13   \n",
       "7            EUR                 EURO  26,809.13     27,079.92  28,279.00   \n",
       "8            GBP    UK POUND STERLING  31,474.93     31,792.85  32,812.68   \n",
       "9            HKD     HONG KONG DOLLAR   3,177.08      3,209.17   3,312.12   \n",
       "10           INR         INDIAN RUPEE          -        304.81     317.00   \n",
       "11           JPY         JAPANESE YEN     157.13        158.72     166.31   \n",
       "12           KRW           KOREAN WON      16.06         17.84      19.46   \n",
       "13           KWD        KUWAITI DINAR          -     82,772.18  86,080.98   \n",
       "14           MYR    MALAYSIAN RINGGIT          -      5,341.49   5,457.97   \n",
       "15           NOK      NORWEGIAN KRONE          -      2,336.27   2,435.45   \n",
       "16           RUB        RUSSIAN RUBLE          -        264.41     292.71   \n",
       "17           SAR  SAUDI ARABIAN RIYAL          -      6,768.94   7,039.53   \n",
       "18           SEK        SWEDISH KRONA          -      2,322.28   2,420.86   \n",
       "19           SGD     SINGAPORE DOLLAR  18,350.94     18,536.30  19,130.90   \n",
       "20           THB            THAI BAHT     613.77        681.97     708.08   \n",
       "21           USD            US DOLLAR  25,247.00     25,277.00  25,477.00   \n",
       "\n",
       "          date  \n",
       "2   2024-05-25  \n",
       "3   2024-05-25  \n",
       "4   2024-05-25  \n",
       "5   2024-05-25  \n",
       "6   2024-05-25  \n",
       "7   2024-05-25  \n",
       "8   2024-05-25  \n",
       "9   2024-05-25  \n",
       "10  2024-05-25  \n",
       "11  2024-05-25  \n",
       "12  2024-05-25  \n",
       "13  2024-05-25  \n",
       "14  2024-05-25  \n",
       "15  2024-05-25  \n",
       "16  2024-05-25  \n",
       "17  2024-05-25  \n",
       "18  2024-05-25  \n",
       "19  2024-05-25  \n",
       "20  2024-05-25  \n",
       "21  2024-05-25  "
      ]
     },
     "execution_count": 2,
     "metadata": {},
     "output_type": "execute_result"
    }
   ],
   "source": [
    "from vnstock.explorer.misc import *\n",
    "vcb_exchange_rate(date='2024-05-25')"
   ]
  },
  {
   "cell_type": "markdown",
   "metadata": {},
   "source": [
    "## Giá vàng"
   ]
  },
  {
   "cell_type": "markdown",
   "metadata": {},
   "source": [
    "### SJC các loại - Snapshot"
   ]
  },
  {
   "cell_type": "code",
   "execution_count": 3,
   "metadata": {},
   "outputs": [
    {
     "data": {
      "application/vnd.microsoft.datawrangler.viewer.v0+json": {
       "columns": [
        {
         "name": "index",
         "rawType": "int64",
         "type": "integer"
        },
        {
         "name": "name",
         "rawType": "object",
         "type": "string"
        },
        {
         "name": "branch",
         "rawType": "object",
         "type": "string"
        },
        {
         "name": "buy_price",
         "rawType": "float64",
         "type": "float"
        },
        {
         "name": "sell_price",
         "rawType": "float64",
         "type": "float"
        },
        {
         "name": "date",
         "rawType": "object",
         "type": "string"
        }
       ],
       "conversionMethod": "pd.DataFrame",
       "ref": "a8dcd496-bfaf-4189-8b5d-f5aa8682a066",
       "rows": [
        [
         "0",
         "Vàng SJC 1L, 10L, 1KG",
         "Hồ Chí Minh",
         "84400000.0",
         "86400000.0",
         "2025-01-14"
        ],
        [
         "1",
         "Vàng SJC 1L, 10L, 1KG",
         "Miền Bắc",
         "84400000.0",
         "86400000.0",
         "2025-01-14"
        ],
        [
         "2",
         "Vàng SJC 1L, 10L, 1KG",
         "Hạ Long",
         "84400000.0",
         "86400000.0",
         "2025-01-14"
        ],
        [
         "3",
         "Vàng SJC 1L, 10L, 1KG",
         "Hải Phòng",
         "84400000.0",
         "86400000.0",
         "2025-01-14"
        ],
        [
         "4",
         "Vàng SJC 1L, 10L, 1KG",
         "Miền Trung",
         "84400000.0",
         "86400000.0",
         "2025-01-14"
        ],
        [
         "5",
         "Vàng SJC 1L, 10L, 1KG",
         "Huế",
         "84400000.0",
         "86400000.0",
         "2025-01-14"
        ],
        [
         "6",
         "Vàng SJC 1L, 10L, 1KG",
         "Quảng Ngãi",
         "84400000.0",
         "86400000.0",
         "2025-01-14"
        ],
        [
         "7",
         "Vàng SJC 1L, 10L, 1KG",
         "Nha Trang",
         "84400000.0",
         "86400000.0",
         "2025-01-14"
        ],
        [
         "8",
         "Vàng SJC 1L, 10L, 1KG",
         "Biên Hòa",
         "84400000.0",
         "86400000.0",
         "2025-01-14"
        ],
        [
         "9",
         "Vàng SJC 1L, 10L, 1KG",
         "Miền Tây",
         "84400000.0",
         "86400000.0",
         "2025-01-14"
        ],
        [
         "10",
         "Vàng SJC 1L, 10L, 1KG",
         "Bạc Liêu",
         "84400000.0",
         "86400000.0",
         "2025-01-14"
        ],
        [
         "11",
         "Vàng SJC 1L, 10L, 1KG",
         "Cà Mau",
         "84400000.0",
         "86400000.0",
         "2025-01-14"
        ]
       ],
       "shape": {
        "columns": 5,
        "rows": 12
       }
      },
      "text/html": [
       "<div>\n",
       "<style scoped>\n",
       "    .dataframe tbody tr th:only-of-type {\n",
       "        vertical-align: middle;\n",
       "    }\n",
       "\n",
       "    .dataframe tbody tr th {\n",
       "        vertical-align: top;\n",
       "    }\n",
       "\n",
       "    .dataframe thead th {\n",
       "        text-align: right;\n",
       "    }\n",
       "</style>\n",
       "<table border=\"1\" class=\"dataframe\">\n",
       "  <thead>\n",
       "    <tr style=\"text-align: right;\">\n",
       "      <th></th>\n",
       "      <th>name</th>\n",
       "      <th>branch</th>\n",
       "      <th>buy_price</th>\n",
       "      <th>sell_price</th>\n",
       "      <th>date</th>\n",
       "    </tr>\n",
       "  </thead>\n",
       "  <tbody>\n",
       "    <tr>\n",
       "      <th>0</th>\n",
       "      <td>Vàng SJC 1L, 10L, 1KG</td>\n",
       "      <td>Hồ Chí Minh</td>\n",
       "      <td>84400000.0</td>\n",
       "      <td>86400000.0</td>\n",
       "      <td>2025-01-14</td>\n",
       "    </tr>\n",
       "    <tr>\n",
       "      <th>1</th>\n",
       "      <td>Vàng SJC 1L, 10L, 1KG</td>\n",
       "      <td>Miền Bắc</td>\n",
       "      <td>84400000.0</td>\n",
       "      <td>86400000.0</td>\n",
       "      <td>2025-01-14</td>\n",
       "    </tr>\n",
       "    <tr>\n",
       "      <th>2</th>\n",
       "      <td>Vàng SJC 1L, 10L, 1KG</td>\n",
       "      <td>Hạ Long</td>\n",
       "      <td>84400000.0</td>\n",
       "      <td>86400000.0</td>\n",
       "      <td>2025-01-14</td>\n",
       "    </tr>\n",
       "    <tr>\n",
       "      <th>3</th>\n",
       "      <td>Vàng SJC 1L, 10L, 1KG</td>\n",
       "      <td>Hải Phòng</td>\n",
       "      <td>84400000.0</td>\n",
       "      <td>86400000.0</td>\n",
       "      <td>2025-01-14</td>\n",
       "    </tr>\n",
       "    <tr>\n",
       "      <th>4</th>\n",
       "      <td>Vàng SJC 1L, 10L, 1KG</td>\n",
       "      <td>Miền Trung</td>\n",
       "      <td>84400000.0</td>\n",
       "      <td>86400000.0</td>\n",
       "      <td>2025-01-14</td>\n",
       "    </tr>\n",
       "    <tr>\n",
       "      <th>5</th>\n",
       "      <td>Vàng SJC 1L, 10L, 1KG</td>\n",
       "      <td>Huế</td>\n",
       "      <td>84400000.0</td>\n",
       "      <td>86400000.0</td>\n",
       "      <td>2025-01-14</td>\n",
       "    </tr>\n",
       "    <tr>\n",
       "      <th>6</th>\n",
       "      <td>Vàng SJC 1L, 10L, 1KG</td>\n",
       "      <td>Quảng Ngãi</td>\n",
       "      <td>84400000.0</td>\n",
       "      <td>86400000.0</td>\n",
       "      <td>2025-01-14</td>\n",
       "    </tr>\n",
       "    <tr>\n",
       "      <th>7</th>\n",
       "      <td>Vàng SJC 1L, 10L, 1KG</td>\n",
       "      <td>Nha Trang</td>\n",
       "      <td>84400000.0</td>\n",
       "      <td>86400000.0</td>\n",
       "      <td>2025-01-14</td>\n",
       "    </tr>\n",
       "    <tr>\n",
       "      <th>8</th>\n",
       "      <td>Vàng SJC 1L, 10L, 1KG</td>\n",
       "      <td>Biên Hòa</td>\n",
       "      <td>84400000.0</td>\n",
       "      <td>86400000.0</td>\n",
       "      <td>2025-01-14</td>\n",
       "    </tr>\n",
       "    <tr>\n",
       "      <th>9</th>\n",
       "      <td>Vàng SJC 1L, 10L, 1KG</td>\n",
       "      <td>Miền Tây</td>\n",
       "      <td>84400000.0</td>\n",
       "      <td>86400000.0</td>\n",
       "      <td>2025-01-14</td>\n",
       "    </tr>\n",
       "    <tr>\n",
       "      <th>10</th>\n",
       "      <td>Vàng SJC 1L, 10L, 1KG</td>\n",
       "      <td>Bạc Liêu</td>\n",
       "      <td>84400000.0</td>\n",
       "      <td>86400000.0</td>\n",
       "      <td>2025-01-14</td>\n",
       "    </tr>\n",
       "    <tr>\n",
       "      <th>11</th>\n",
       "      <td>Vàng SJC 1L, 10L, 1KG</td>\n",
       "      <td>Cà Mau</td>\n",
       "      <td>84400000.0</td>\n",
       "      <td>86400000.0</td>\n",
       "      <td>2025-01-14</td>\n",
       "    </tr>\n",
       "  </tbody>\n",
       "</table>\n",
       "</div>"
      ],
      "text/plain": [
       "                     name       branch   buy_price  sell_price        date\n",
       "0   Vàng SJC 1L, 10L, 1KG  Hồ Chí Minh  84400000.0  86400000.0  2025-01-14\n",
       "1   Vàng SJC 1L, 10L, 1KG     Miền Bắc  84400000.0  86400000.0  2025-01-14\n",
       "2   Vàng SJC 1L, 10L, 1KG      Hạ Long  84400000.0  86400000.0  2025-01-14\n",
       "3   Vàng SJC 1L, 10L, 1KG    Hải Phòng  84400000.0  86400000.0  2025-01-14\n",
       "4   Vàng SJC 1L, 10L, 1KG   Miền Trung  84400000.0  86400000.0  2025-01-14\n",
       "5   Vàng SJC 1L, 10L, 1KG          Huế  84400000.0  86400000.0  2025-01-14\n",
       "6   Vàng SJC 1L, 10L, 1KG   Quảng Ngãi  84400000.0  86400000.0  2025-01-14\n",
       "7   Vàng SJC 1L, 10L, 1KG    Nha Trang  84400000.0  86400000.0  2025-01-14\n",
       "8   Vàng SJC 1L, 10L, 1KG     Biên Hòa  84400000.0  86400000.0  2025-01-14\n",
       "9   Vàng SJC 1L, 10L, 1KG     Miền Tây  84400000.0  86400000.0  2025-01-14\n",
       "10  Vàng SJC 1L, 10L, 1KG     Bạc Liêu  84400000.0  86400000.0  2025-01-14\n",
       "11  Vàng SJC 1L, 10L, 1KG       Cà Mau  84400000.0  86400000.0  2025-01-14"
      ]
     },
     "execution_count": 3,
     "metadata": {},
     "output_type": "execute_result"
    }
   ],
   "source": [
    "from vnstock.explorer.misc import *\n",
    "\n",
    "sjc_gold_price()"
   ]
  },
  {
   "cell_type": "markdown",
   "metadata": {},
   "source": [
    "### Vàng Bảo Tín Minh Châu"
   ]
  },
  {
   "cell_type": "code",
   "execution_count": 4,
   "metadata": {},
   "outputs": [
    {
     "data": {
      "application/vnd.microsoft.datawrangler.viewer.v0+json": {
       "columns": [
        {
         "name": "index",
         "rawType": "int64",
         "type": "integer"
        },
        {
         "name": "name",
         "rawType": "object",
         "type": "string"
        },
        {
         "name": "karat",
         "rawType": "object",
         "type": "string"
        },
        {
         "name": "gold_content",
         "rawType": "object",
         "type": "string"
        },
        {
         "name": "buy_price",
         "rawType": "object",
         "type": "string"
        },
        {
         "name": "sell_price",
         "rawType": "object",
         "type": "string"
        },
        {
         "name": "world_price",
         "rawType": "object",
         "type": "string"
        },
        {
         "name": "time",
         "rawType": "object",
         "type": "string"
        }
       ],
       "conversionMethod": "pd.DataFrame",
       "ref": "07526a6d-5f26-4abc-901d-a340325fc886",
       "rows": [
        [
         "6",
         "VÀNG MIẾNG SJC (Vàng SJC)",
         "24k",
         "999.9",
         "8440000",
         "8640000",
         "0",
         "14/01/2025 09:06"
        ],
        [
         "0",
         "VÀNG MIẾNG VRTL (Vàng Rồng Thăng Long)",
         "24k",
         "999.9",
         "8480000",
         "8630000",
         "0",
         "14/01/2025 09:06"
        ],
        [
         "1",
         "QUÀ MỪNG BẢN VỊ VÀNG (Quà Mừng Bản Vị Vàng)",
         "24k",
         "999.9",
         "8480000",
         "8630000",
         "0",
         "14/01/2025 09:06"
        ],
        [
         "2",
         "NHẪN TRÒN TRƠN (Vàng Rồng Thăng Long)",
         "24k",
         "999.9",
         "8480000",
         "8630000",
         "0",
         "14/01/2025 09:06"
        ],
        [
         "4",
         "TRANG SỨC BẰNG VÀNG RỒNG THĂNG LONG 999.9 (Vàng BTMC)",
         "24k",
         "999.9",
         "8430000",
         "8620000",
         "0",
         "14/01/2025 09:06"
        ],
        [
         "5",
         "TRANG SỨC BẰNG VÀNG RỒNG THĂNG LONG 99.9 (Vàng BTMC)",
         "24k",
         "99.9",
         "8420000",
         "8610000",
         "0",
         "14/01/2025 09:06"
        ],
        [
         "3",
         "VÀNG NGUYÊN LIỆU (Vàng thị trường)",
         "24k",
         "999.9",
         "8390000",
         "0",
         "0",
         "14/01/2025 09:06"
        ]
       ],
       "shape": {
        "columns": 7,
        "rows": 7
       }
      },
      "text/html": [
       "<div>\n",
       "<style scoped>\n",
       "    .dataframe tbody tr th:only-of-type {\n",
       "        vertical-align: middle;\n",
       "    }\n",
       "\n",
       "    .dataframe tbody tr th {\n",
       "        vertical-align: top;\n",
       "    }\n",
       "\n",
       "    .dataframe thead th {\n",
       "        text-align: right;\n",
       "    }\n",
       "</style>\n",
       "<table border=\"1\" class=\"dataframe\">\n",
       "  <thead>\n",
       "    <tr style=\"text-align: right;\">\n",
       "      <th></th>\n",
       "      <th>name</th>\n",
       "      <th>karat</th>\n",
       "      <th>gold_content</th>\n",
       "      <th>buy_price</th>\n",
       "      <th>sell_price</th>\n",
       "      <th>world_price</th>\n",
       "      <th>time</th>\n",
       "    </tr>\n",
       "  </thead>\n",
       "  <tbody>\n",
       "    <tr>\n",
       "      <th>6</th>\n",
       "      <td>VÀNG MIẾNG SJC (Vàng SJC)</td>\n",
       "      <td>24k</td>\n",
       "      <td>999.9</td>\n",
       "      <td>8440000</td>\n",
       "      <td>8640000</td>\n",
       "      <td>0</td>\n",
       "      <td>14/01/2025 09:06</td>\n",
       "    </tr>\n",
       "    <tr>\n",
       "      <th>0</th>\n",
       "      <td>VÀNG MIẾNG VRTL (Vàng Rồng Thăng Long)</td>\n",
       "      <td>24k</td>\n",
       "      <td>999.9</td>\n",
       "      <td>8480000</td>\n",
       "      <td>8630000</td>\n",
       "      <td>0</td>\n",
       "      <td>14/01/2025 09:06</td>\n",
       "    </tr>\n",
       "    <tr>\n",
       "      <th>1</th>\n",
       "      <td>QUÀ MỪNG BẢN VỊ VÀNG (Quà Mừng Bản Vị Vàng)</td>\n",
       "      <td>24k</td>\n",
       "      <td>999.9</td>\n",
       "      <td>8480000</td>\n",
       "      <td>8630000</td>\n",
       "      <td>0</td>\n",
       "      <td>14/01/2025 09:06</td>\n",
       "    </tr>\n",
       "    <tr>\n",
       "      <th>2</th>\n",
       "      <td>NHẪN TRÒN TRƠN (Vàng Rồng Thăng Long)</td>\n",
       "      <td>24k</td>\n",
       "      <td>999.9</td>\n",
       "      <td>8480000</td>\n",
       "      <td>8630000</td>\n",
       "      <td>0</td>\n",
       "      <td>14/01/2025 09:06</td>\n",
       "    </tr>\n",
       "    <tr>\n",
       "      <th>4</th>\n",
       "      <td>TRANG SỨC BẰNG VÀNG RỒNG THĂNG LONG 999.9 (Vàn...</td>\n",
       "      <td>24k</td>\n",
       "      <td>999.9</td>\n",
       "      <td>8430000</td>\n",
       "      <td>8620000</td>\n",
       "      <td>0</td>\n",
       "      <td>14/01/2025 09:06</td>\n",
       "    </tr>\n",
       "    <tr>\n",
       "      <th>5</th>\n",
       "      <td>TRANG SỨC BẰNG VÀNG RỒNG THĂNG LONG 99.9 (Vàng...</td>\n",
       "      <td>24k</td>\n",
       "      <td>99.9</td>\n",
       "      <td>8420000</td>\n",
       "      <td>8610000</td>\n",
       "      <td>0</td>\n",
       "      <td>14/01/2025 09:06</td>\n",
       "    </tr>\n",
       "    <tr>\n",
       "      <th>3</th>\n",
       "      <td>VÀNG NGUYÊN LIỆU (Vàng thị trường)</td>\n",
       "      <td>24k</td>\n",
       "      <td>999.9</td>\n",
       "      <td>8390000</td>\n",
       "      <td>0</td>\n",
       "      <td>0</td>\n",
       "      <td>14/01/2025 09:06</td>\n",
       "    </tr>\n",
       "  </tbody>\n",
       "</table>\n",
       "</div>"
      ],
      "text/plain": [
       "                                                name karat gold_content  \\\n",
       "6                          VÀNG MIẾNG SJC (Vàng SJC)   24k        999.9   \n",
       "0             VÀNG MIẾNG VRTL (Vàng Rồng Thăng Long)   24k        999.9   \n",
       "1        QUÀ MỪNG BẢN VỊ VÀNG (Quà Mừng Bản Vị Vàng)   24k        999.9   \n",
       "2              NHẪN TRÒN TRƠN (Vàng Rồng Thăng Long)   24k        999.9   \n",
       "4  TRANG SỨC BẰNG VÀNG RỒNG THĂNG LONG 999.9 (Vàn...   24k        999.9   \n",
       "5  TRANG SỨC BẰNG VÀNG RỒNG THĂNG LONG 99.9 (Vàng...   24k         99.9   \n",
       "3                 VÀNG NGUYÊN LIỆU (Vàng thị trường)   24k        999.9   \n",
       "\n",
       "  buy_price sell_price world_price              time  \n",
       "6   8440000    8640000           0  14/01/2025 09:06  \n",
       "0   8480000    8630000           0  14/01/2025 09:06  \n",
       "1   8480000    8630000           0  14/01/2025 09:06  \n",
       "2   8480000    8630000           0  14/01/2025 09:06  \n",
       "4   8430000    8620000           0  14/01/2025 09:06  \n",
       "5   8420000    8610000           0  14/01/2025 09:06  \n",
       "3   8390000          0           0  14/01/2025 09:06  "
      ]
     },
     "execution_count": 4,
     "metadata": {},
     "output_type": "execute_result"
    }
   ],
   "source": [
    "btmc_goldprice()"
   ]
  }
 ],
 "metadata": {
  "kernelspec": {
   "display_name": "Python 3",
   "language": "python",
   "name": "python3"
  },
  "language_info": {
   "codemirror_mode": {
    "name": "ipython",
    "version": 3
   },
   "file_extension": ".py",
   "mimetype": "text/x-python",
   "name": "python",
   "nbconvert_exporter": "python",
   "pygments_lexer": "ipython3",
   "version": "3.10.11"
  }
 },
 "nbformat": 4,
 "nbformat_minor": 2
}
