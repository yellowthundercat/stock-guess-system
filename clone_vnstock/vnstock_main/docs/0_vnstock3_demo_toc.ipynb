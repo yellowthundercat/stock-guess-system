{
 "cells": [
  {
   "cell_type": "markdown",
   "metadata": {},
   "source": [
    "<a target=\"_blank\" href=\"https://colab.research.google.com/github/thinh-vu/vnstock/blob/main/docs/0_vnstock3_demo_toc.ipynb\">\n",
    "  <img src=\"https://colab.research.google.com/assets/colab-badge.svg\" alt=\"Open In Colab\"/>\n",
    "</a>"
   ]
  },
  {
   "cell_type": "markdown",
   "metadata": {},
   "source": [
    "> Bạn có thể nhấp vào đường link cho mỗi mục demo trong phần mục lục để hình dung cách sử dụng thư viện Vnstock3 trong thực tế. Chúc bạn có một trải nghiệm thú vị và hứng khởi 😃"
   ]
  },
  {
   "cell_type": "markdown",
   "metadata": {},
   "source": [
    "# Mục lục"
   ]
  },
  {
   "cell_type": "markdown",
   "metadata": {},
   "source": [
    "1. Chứng khoán Việt Nam [tại đây](https://colab.research.google.com/github/thinh-vu/vnstock/blob/main/docs/1_vietnam_stock_vnstock3.ipynb)\n",
    "2. Chứng khoán quốc tế: Forex, Crypto, Chỉ số [tại đây](https://colab.research.google.com/github/thinh-vu/vnstock/blob/main/docs/2_international_market.ipynb)\n",
    "3. Dữ liệu Thị trường, hàng hoá [tại đây](https://colab.research.google.com/github/thinh-vu/vnstock/blob/main/docs/3_commodities_vnstock3.ipynb)\n",
    "4. Kết nối API chính thức từ Cty chứng khoán: đang cập nhật\n",
    "5. Biểu diễn dữ liệu trực quan từ Vnstock3 [tại đây](https://colab.research.google.com/github/thinh-vu/vnstock/blob/main/docs/5_visualization_data_exploration_vnstock3.ipynb)"
   ]
  }
 ],
 "metadata": {
  "language_info": {
   "name": "python"
  }
 },
 "nbformat": 4,
 "nbformat_minor": 2
}
